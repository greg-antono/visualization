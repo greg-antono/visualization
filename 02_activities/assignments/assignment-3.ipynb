{
 "cells": [
  {
   "cell_type": "code",
   "execution_count": 3,
   "metadata": {},
   "outputs": [
    {
     "name": "stdout",
     "output_type": "stream",
     "text": [
      "Requirement already satisfied: plotly in /Users/gregantono/opt/anaconda3/envs/dsi_participant/lib/python3.9/site-packages (6.0.1)\n",
      "Requirement already satisfied: narwhals>=1.15.1 in /Users/gregantono/opt/anaconda3/envs/dsi_participant/lib/python3.9/site-packages (from plotly) (1.38.0)\n",
      "Requirement already satisfied: packaging in /Users/gregantono/opt/anaconda3/envs/dsi_participant/lib/python3.9/site-packages (from plotly) (24.2)\n",
      "Note: you may need to restart the kernel to use updated packages.\n"
     ]
    }
   ],
   "source": [
    "#load libraries\n",
    "import numpy as np\n",
    "import matplotlib.pyplot as plt\n",
    "import pandas as pd\n",
    "import scipy \n",
    "import PIL\n",
    "import requests\n",
    "\n",
    "%pip install plotly\n",
    "import plotly.graph_objects as go"
   ]
  },
  {
   "cell_type": "code",
   "execution_count": 2,
   "metadata": {},
   "outputs": [
    {
     "name": "stdout",
     "output_type": "stream",
     "text": [
      "Requirement already satisfied: pandas in /Users/gregantono/opt/anaconda3/envs/dsi_participant/lib/python3.9/site-packages (2.2.3)\n",
      "Collecting openpyxl\n",
      "  Downloading openpyxl-3.1.5-py2.py3-none-any.whl.metadata (2.5 kB)\n",
      "Requirement already satisfied: numpy>=1.22.4 in /Users/gregantono/opt/anaconda3/envs/dsi_participant/lib/python3.9/site-packages (from pandas) (2.0.2)\n",
      "Requirement already satisfied: python-dateutil>=2.8.2 in /Users/gregantono/opt/anaconda3/envs/dsi_participant/lib/python3.9/site-packages (from pandas) (2.9.0.post0)\n",
      "Requirement already satisfied: pytz>=2020.1 in /Users/gregantono/opt/anaconda3/envs/dsi_participant/lib/python3.9/site-packages (from pandas) (2025.1)\n",
      "Requirement already satisfied: tzdata>=2022.7 in /Users/gregantono/opt/anaconda3/envs/dsi_participant/lib/python3.9/site-packages (from pandas) (2025.1)\n",
      "Collecting et-xmlfile (from openpyxl)\n",
      "  Downloading et_xmlfile-2.0.0-py3-none-any.whl.metadata (2.7 kB)\n",
      "Requirement already satisfied: six>=1.5 in /Users/gregantono/opt/anaconda3/envs/dsi_participant/lib/python3.9/site-packages (from python-dateutil>=2.8.2->pandas) (1.17.0)\n",
      "Downloading openpyxl-3.1.5-py2.py3-none-any.whl (250 kB)\n",
      "Downloading et_xmlfile-2.0.0-py3-none-any.whl (18 kB)\n",
      "Installing collected packages: et-xmlfile, openpyxl\n",
      "Successfully installed et-xmlfile-2.0.0 openpyxl-3.1.5\n",
      "Note: you may need to restart the kernel to use updated packages.\n"
     ]
    }
   ],
   "source": [
    "pip install pandas openpyxl"
   ]
  },
  {
   "cell_type": "code",
   "execution_count": 9,
   "metadata": {},
   "outputs": [
    {
     "name": "stdout",
     "output_type": "stream",
     "text": [
      "                                               cause   code line\n",
      "0  Passenger Assistance Alarm Activated - No Trou...  MUPAA   YU\n",
      "2  Passenger Assistance Alarm Activated - No Trou...  MUPAA   YU\n",
      "3  Passenger Assistance Alarm Activated - No Trou...  MUPAA   YU\n",
      "4                   Door Problems - Faulty Equipment   EUDO   BD\n",
      "5   Injured or ill Customer (On Train) - Transported    MUI   YU\n"
     ]
    }
   ],
   "source": [
    "ttcdelay = pd.read_excel(\"/Users/gregantono/Desktop/TTC-2024delays.xlsx\", engine='openpyxl')\n",
    "\n",
    "ttcdelay.columns = ttcdelay.columns.str.strip().str.lower()\n",
    "\n",
    "# Exclude 'Other' causes \n",
    "ttcdelay = ttcdelay[ttcdelay['cause'].str.lower() != 'other']\n",
    "\n",
    "# Check sample\n",
    "print(ttcdelay.head())"
   ]
  },
  {
   "cell_type": "code",
   "execution_count": 21,
   "metadata": {},
   "outputs": [],
   "source": [
    "cause_counts = ttcdelay.groupby(['code', 'cause']).size().reset_index(name='count')\n",
    "top20_causes = cause_counts.nlargest(20, 'count').copy()"
   ]
  },
  {
   "cell_type": "code",
   "execution_count": 28,
   "metadata": {},
   "outputs": [
    {
     "data": {
      "application/vnd.plotly.v1+json": {
       "config": {
        "plotlyServerURL": "https://plot.ly"
       },
       "data": [
        {
         "text": [
          "Cause: Disorderly Patron<br>Count: 1259",
          "Cause: Passenger Assistance Alarm Activated - No Trouble Found<br>Count: 899",
          "Cause: OPTO (COMMS) Train Door Monitoring<br>Count: 854",
          "Cause: Passenger Other<br>Count: 590",
          "Cause: Injured or ill Customer (On Train) - Medical Aid Refused<br>Count: 583",
          "Cause: Unsanitary Vehicle<br>Count: 409",
          "Cause: Unauthorized at Track Level<br>Count: 393",
          "Cause: Injured or ill Customer (On Train) - Transported<br>Count: 376",
          "Cause: Transportation Department - Other<br>Count: 252",
          "Cause: Miscellaneous Other<br>Count: 227",
          "Cause: Automatic Train Control (ATC)  Project<br>Count: 204",
          "Cause: Door Problems - Debris Related<br>Count: 200",
          "Cause: Door Problems - Faulty Equipment<br>Count: 184",
          "Cause: Assault / Patron Involved<br>Count: 146",
          "Cause: Graffiti / Scratchiti<br>Count: 144",
          "Cause: Misc. Transportation Other - Employee Non-Chargeable<br>Count: 142",
          "Cause: Operator Violated Signal<br>Count: 104",
          "Cause: Work Zone Problems - Track<br>Count: 103",
          "Cause: Equipment - No Trouble Found<br>Count: 95",
          "Cause: Signals Axle Counter Block Failure<br>Count: 92"
         ],
         "textposition": "none",
         "type": "bar",
         "x": [
          "SUDP",
          "MUPAA",
          "PUOPO",
          "SUO",
          "MUIR",
          "MUSAN",
          "SUUT",
          "MUI",
          "TUO",
          "MUO",
          "MUATC",
          "MUDD",
          "EUDO",
          "SUAP",
          "SUG",
          "MUTO",
          "TUMVS",
          "PUTWZ",
          "EUNT",
          "PUSAC"
         ],
         "y": {
          "bdata": "6wSDA1YDTgJHApkBiQF4AfwA4wDMAMgAuACSAJAAjgBoAGcAXwBcAA==",
          "dtype": "i2"
         }
        }
       ],
       "layout": {
        "template": {
         "data": {
          "bar": [
           {
            "error_x": {
             "color": "#2a3f5f"
            },
            "error_y": {
             "color": "#2a3f5f"
            },
            "marker": {
             "line": {
              "color": "#E5ECF6",
              "width": 0.5
             },
             "pattern": {
              "fillmode": "overlay",
              "size": 10,
              "solidity": 0.2
             }
            },
            "type": "bar"
           }
          ],
          "barpolar": [
           {
            "marker": {
             "line": {
              "color": "#E5ECF6",
              "width": 0.5
             },
             "pattern": {
              "fillmode": "overlay",
              "size": 10,
              "solidity": 0.2
             }
            },
            "type": "barpolar"
           }
          ],
          "carpet": [
           {
            "aaxis": {
             "endlinecolor": "#2a3f5f",
             "gridcolor": "white",
             "linecolor": "white",
             "minorgridcolor": "white",
             "startlinecolor": "#2a3f5f"
            },
            "baxis": {
             "endlinecolor": "#2a3f5f",
             "gridcolor": "white",
             "linecolor": "white",
             "minorgridcolor": "white",
             "startlinecolor": "#2a3f5f"
            },
            "type": "carpet"
           }
          ],
          "choropleth": [
           {
            "colorbar": {
             "outlinewidth": 0,
             "ticks": ""
            },
            "type": "choropleth"
           }
          ],
          "contour": [
           {
            "colorbar": {
             "outlinewidth": 0,
             "ticks": ""
            },
            "colorscale": [
             [
              0,
              "#0d0887"
             ],
             [
              0.1111111111111111,
              "#46039f"
             ],
             [
              0.2222222222222222,
              "#7201a8"
             ],
             [
              0.3333333333333333,
              "#9c179e"
             ],
             [
              0.4444444444444444,
              "#bd3786"
             ],
             [
              0.5555555555555556,
              "#d8576b"
             ],
             [
              0.6666666666666666,
              "#ed7953"
             ],
             [
              0.7777777777777778,
              "#fb9f3a"
             ],
             [
              0.8888888888888888,
              "#fdca26"
             ],
             [
              1,
              "#f0f921"
             ]
            ],
            "type": "contour"
           }
          ],
          "contourcarpet": [
           {
            "colorbar": {
             "outlinewidth": 0,
             "ticks": ""
            },
            "type": "contourcarpet"
           }
          ],
          "heatmap": [
           {
            "colorbar": {
             "outlinewidth": 0,
             "ticks": ""
            },
            "colorscale": [
             [
              0,
              "#0d0887"
             ],
             [
              0.1111111111111111,
              "#46039f"
             ],
             [
              0.2222222222222222,
              "#7201a8"
             ],
             [
              0.3333333333333333,
              "#9c179e"
             ],
             [
              0.4444444444444444,
              "#bd3786"
             ],
             [
              0.5555555555555556,
              "#d8576b"
             ],
             [
              0.6666666666666666,
              "#ed7953"
             ],
             [
              0.7777777777777778,
              "#fb9f3a"
             ],
             [
              0.8888888888888888,
              "#fdca26"
             ],
             [
              1,
              "#f0f921"
             ]
            ],
            "type": "heatmap"
           }
          ],
          "histogram": [
           {
            "marker": {
             "pattern": {
              "fillmode": "overlay",
              "size": 10,
              "solidity": 0.2
             }
            },
            "type": "histogram"
           }
          ],
          "histogram2d": [
           {
            "colorbar": {
             "outlinewidth": 0,
             "ticks": ""
            },
            "colorscale": [
             [
              0,
              "#0d0887"
             ],
             [
              0.1111111111111111,
              "#46039f"
             ],
             [
              0.2222222222222222,
              "#7201a8"
             ],
             [
              0.3333333333333333,
              "#9c179e"
             ],
             [
              0.4444444444444444,
              "#bd3786"
             ],
             [
              0.5555555555555556,
              "#d8576b"
             ],
             [
              0.6666666666666666,
              "#ed7953"
             ],
             [
              0.7777777777777778,
              "#fb9f3a"
             ],
             [
              0.8888888888888888,
              "#fdca26"
             ],
             [
              1,
              "#f0f921"
             ]
            ],
            "type": "histogram2d"
           }
          ],
          "histogram2dcontour": [
           {
            "colorbar": {
             "outlinewidth": 0,
             "ticks": ""
            },
            "colorscale": [
             [
              0,
              "#0d0887"
             ],
             [
              0.1111111111111111,
              "#46039f"
             ],
             [
              0.2222222222222222,
              "#7201a8"
             ],
             [
              0.3333333333333333,
              "#9c179e"
             ],
             [
              0.4444444444444444,
              "#bd3786"
             ],
             [
              0.5555555555555556,
              "#d8576b"
             ],
             [
              0.6666666666666666,
              "#ed7953"
             ],
             [
              0.7777777777777778,
              "#fb9f3a"
             ],
             [
              0.8888888888888888,
              "#fdca26"
             ],
             [
              1,
              "#f0f921"
             ]
            ],
            "type": "histogram2dcontour"
           }
          ],
          "mesh3d": [
           {
            "colorbar": {
             "outlinewidth": 0,
             "ticks": ""
            },
            "type": "mesh3d"
           }
          ],
          "parcoords": [
           {
            "line": {
             "colorbar": {
              "outlinewidth": 0,
              "ticks": ""
             }
            },
            "type": "parcoords"
           }
          ],
          "pie": [
           {
            "automargin": true,
            "type": "pie"
           }
          ],
          "scatter": [
           {
            "fillpattern": {
             "fillmode": "overlay",
             "size": 10,
             "solidity": 0.2
            },
            "type": "scatter"
           }
          ],
          "scatter3d": [
           {
            "line": {
             "colorbar": {
              "outlinewidth": 0,
              "ticks": ""
             }
            },
            "marker": {
             "colorbar": {
              "outlinewidth": 0,
              "ticks": ""
             }
            },
            "type": "scatter3d"
           }
          ],
          "scattercarpet": [
           {
            "marker": {
             "colorbar": {
              "outlinewidth": 0,
              "ticks": ""
             }
            },
            "type": "scattercarpet"
           }
          ],
          "scattergeo": [
           {
            "marker": {
             "colorbar": {
              "outlinewidth": 0,
              "ticks": ""
             }
            },
            "type": "scattergeo"
           }
          ],
          "scattergl": [
           {
            "marker": {
             "colorbar": {
              "outlinewidth": 0,
              "ticks": ""
             }
            },
            "type": "scattergl"
           }
          ],
          "scattermap": [
           {
            "marker": {
             "colorbar": {
              "outlinewidth": 0,
              "ticks": ""
             }
            },
            "type": "scattermap"
           }
          ],
          "scattermapbox": [
           {
            "marker": {
             "colorbar": {
              "outlinewidth": 0,
              "ticks": ""
             }
            },
            "type": "scattermapbox"
           }
          ],
          "scatterpolar": [
           {
            "marker": {
             "colorbar": {
              "outlinewidth": 0,
              "ticks": ""
             }
            },
            "type": "scatterpolar"
           }
          ],
          "scatterpolargl": [
           {
            "marker": {
             "colorbar": {
              "outlinewidth": 0,
              "ticks": ""
             }
            },
            "type": "scatterpolargl"
           }
          ],
          "scatterternary": [
           {
            "marker": {
             "colorbar": {
              "outlinewidth": 0,
              "ticks": ""
             }
            },
            "type": "scatterternary"
           }
          ],
          "surface": [
           {
            "colorbar": {
             "outlinewidth": 0,
             "ticks": ""
            },
            "colorscale": [
             [
              0,
              "#0d0887"
             ],
             [
              0.1111111111111111,
              "#46039f"
             ],
             [
              0.2222222222222222,
              "#7201a8"
             ],
             [
              0.3333333333333333,
              "#9c179e"
             ],
             [
              0.4444444444444444,
              "#bd3786"
             ],
             [
              0.5555555555555556,
              "#d8576b"
             ],
             [
              0.6666666666666666,
              "#ed7953"
             ],
             [
              0.7777777777777778,
              "#fb9f3a"
             ],
             [
              0.8888888888888888,
              "#fdca26"
             ],
             [
              1,
              "#f0f921"
             ]
            ],
            "type": "surface"
           }
          ],
          "table": [
           {
            "cells": {
             "fill": {
              "color": "#EBF0F8"
             },
             "line": {
              "color": "white"
             }
            },
            "header": {
             "fill": {
              "color": "#C8D4E3"
             },
             "line": {
              "color": "white"
             }
            },
            "type": "table"
           }
          ]
         },
         "layout": {
          "annotationdefaults": {
           "arrowcolor": "#2a3f5f",
           "arrowhead": 0,
           "arrowwidth": 1
          },
          "autotypenumbers": "strict",
          "coloraxis": {
           "colorbar": {
            "outlinewidth": 0,
            "ticks": ""
           }
          },
          "colorscale": {
           "diverging": [
            [
             0,
             "#8e0152"
            ],
            [
             0.1,
             "#c51b7d"
            ],
            [
             0.2,
             "#de77ae"
            ],
            [
             0.3,
             "#f1b6da"
            ],
            [
             0.4,
             "#fde0ef"
            ],
            [
             0.5,
             "#f7f7f7"
            ],
            [
             0.6,
             "#e6f5d0"
            ],
            [
             0.7,
             "#b8e186"
            ],
            [
             0.8,
             "#7fbc41"
            ],
            [
             0.9,
             "#4d9221"
            ],
            [
             1,
             "#276419"
            ]
           ],
           "sequential": [
            [
             0,
             "#0d0887"
            ],
            [
             0.1111111111111111,
             "#46039f"
            ],
            [
             0.2222222222222222,
             "#7201a8"
            ],
            [
             0.3333333333333333,
             "#9c179e"
            ],
            [
             0.4444444444444444,
             "#bd3786"
            ],
            [
             0.5555555555555556,
             "#d8576b"
            ],
            [
             0.6666666666666666,
             "#ed7953"
            ],
            [
             0.7777777777777778,
             "#fb9f3a"
            ],
            [
             0.8888888888888888,
             "#fdca26"
            ],
            [
             1,
             "#f0f921"
            ]
           ],
           "sequentialminus": [
            [
             0,
             "#0d0887"
            ],
            [
             0.1111111111111111,
             "#46039f"
            ],
            [
             0.2222222222222222,
             "#7201a8"
            ],
            [
             0.3333333333333333,
             "#9c179e"
            ],
            [
             0.4444444444444444,
             "#bd3786"
            ],
            [
             0.5555555555555556,
             "#d8576b"
            ],
            [
             0.6666666666666666,
             "#ed7953"
            ],
            [
             0.7777777777777778,
             "#fb9f3a"
            ],
            [
             0.8888888888888888,
             "#fdca26"
            ],
            [
             1,
             "#f0f921"
            ]
           ]
          },
          "colorway": [
           "#636efa",
           "#EF553B",
           "#00cc96",
           "#ab63fa",
           "#FFA15A",
           "#19d3f3",
           "#FF6692",
           "#B6E880",
           "#FF97FF",
           "#FECB52"
          ],
          "font": {
           "color": "#2a3f5f"
          },
          "geo": {
           "bgcolor": "white",
           "lakecolor": "white",
           "landcolor": "#E5ECF6",
           "showlakes": true,
           "showland": true,
           "subunitcolor": "white"
          },
          "hoverlabel": {
           "align": "left"
          },
          "hovermode": "closest",
          "mapbox": {
           "style": "light"
          },
          "paper_bgcolor": "white",
          "plot_bgcolor": "#E5ECF6",
          "polar": {
           "angularaxis": {
            "gridcolor": "white",
            "linecolor": "white",
            "ticks": ""
           },
           "bgcolor": "#E5ECF6",
           "radialaxis": {
            "gridcolor": "white",
            "linecolor": "white",
            "ticks": ""
           }
          },
          "scene": {
           "xaxis": {
            "backgroundcolor": "#E5ECF6",
            "gridcolor": "white",
            "gridwidth": 2,
            "linecolor": "white",
            "showbackground": true,
            "ticks": "",
            "zerolinecolor": "white"
           },
           "yaxis": {
            "backgroundcolor": "#E5ECF6",
            "gridcolor": "white",
            "gridwidth": 2,
            "linecolor": "white",
            "showbackground": true,
            "ticks": "",
            "zerolinecolor": "white"
           },
           "zaxis": {
            "backgroundcolor": "#E5ECF6",
            "gridcolor": "white",
            "gridwidth": 2,
            "linecolor": "white",
            "showbackground": true,
            "ticks": "",
            "zerolinecolor": "white"
           }
          },
          "shapedefaults": {
           "line": {
            "color": "#2a3f5f"
           }
          },
          "ternary": {
           "aaxis": {
            "gridcolor": "white",
            "linecolor": "white",
            "ticks": ""
           },
           "baxis": {
            "gridcolor": "white",
            "linecolor": "white",
            "ticks": ""
           },
           "bgcolor": "#E5ECF6",
           "caxis": {
            "gridcolor": "white",
            "linecolor": "white",
            "ticks": ""
           }
          },
          "title": {
           "x": 0.05
          },
          "xaxis": {
           "automargin": true,
           "gridcolor": "white",
           "linecolor": "white",
           "ticks": "",
           "title": {
            "standoff": 15
           },
           "zerolinecolor": "white",
           "zerolinewidth": 2
          },
          "yaxis": {
           "automargin": true,
           "gridcolor": "white",
           "linecolor": "white",
           "ticks": "",
           "title": {
            "standoff": 15
           },
           "zerolinecolor": "white",
           "zerolinewidth": 2
          }
         }
        },
        "title": {
         "text": "Top 20 causes of TTC delays in 2024"
        },
        "xaxis": {
         "tickangle": 65,
         "title": {
          "text": "Cause of delay"
         }
        },
        "yaxis": {
         "title": {
          "text": "Frequency"
         }
        }
       }
      }
     },
     "metadata": {},
     "output_type": "display_data"
    }
   ],
   "source": [
    "hover_text = [\n",
    "    f\"Cause: {cause}<br>Count: {count}\"\n",
    "    for cause, count in zip(top20_causes['cause'], top20_causes['count'])\n",
    "]\n",
    "\n",
    "graph = go.Figure()\n",
    "graph.add_trace(go.Bar(x=top20_causes['code'], \n",
    "                       y=top20_causes['count'], \n",
    "                       text=hover_text, \n",
    "                       textposition='none'                       ))\n",
    "\n",
    "graph.update_layout(\n",
    "    title = 'Top 20 causes of TTC delays in 2024',\n",
    "    xaxis_title = 'Cause of delay',\n",
    "    yaxis_title = 'Frequency',\n",
    "    xaxis_tickangle=65\n",
    ")"
   ]
  },
  {
   "cell_type": "code",
   "execution_count": 29,
   "metadata": {},
   "outputs": [
    {
     "data": {
      "application/vnd.plotly.v1+json": {
       "config": {
        "plotlyServerURL": "https://plot.ly"
       },
       "data": [
        {
         "marker": {
          "color": [
           "indianred",
           "indianred",
           "steelblue",
           "indianred",
           "indianred",
           "indianred",
           "indianred",
           "indianred",
           "steelblue",
           "steelblue",
           "steelblue",
           "steelblue",
           "steelblue",
           "indianred",
           "indianred",
           "steelblue",
           "steelblue",
           "steelblue",
           "steelblue",
           "steelblue"
          ]
         },
         "text": [
          "Cause: Disorderly Patron<br>Count: 1259",
          "Cause: Passenger Assistance Alarm Activated - No Trouble Found<br>Count: 899",
          "Cause: OPTO (COMMS) Train Door Monitoring<br>Count: 854",
          "Cause: Passenger Other<br>Count: 590",
          "Cause: Injured or ill Customer (On Train) - Medical Aid Refused<br>Count: 583",
          "Cause: Unsanitary Vehicle<br>Count: 409",
          "Cause: Unauthorized at Track Level<br>Count: 393",
          "Cause: Injured or ill Customer (On Train) - Transported<br>Count: 376",
          "Cause: Transportation Department - Other<br>Count: 252",
          "Cause: Miscellaneous Other<br>Count: 227",
          "Cause: Automatic Train Control (ATC)  Project<br>Count: 204",
          "Cause: Door Problems - Debris Related<br>Count: 200",
          "Cause: Door Problems - Faulty Equipment<br>Count: 184",
          "Cause: Assault / Patron Involved<br>Count: 146",
          "Cause: Graffiti / Scratchiti<br>Count: 144",
          "Cause: Misc. Transportation Other - Employee Non-Chargeable<br>Count: 142",
          "Cause: Operator Violated Signal<br>Count: 104",
          "Cause: Work Zone Problems - Track<br>Count: 103",
          "Cause: Equipment - No Trouble Found<br>Count: 95",
          "Cause: Signals Axle Counter Block Failure<br>Count: 92"
         ],
         "textposition": "none",
         "type": "bar",
         "x": [
          "SUDP",
          "MUPAA",
          "PUOPO",
          "SUO",
          "MUIR",
          "MUSAN",
          "SUUT",
          "MUI",
          "TUO",
          "MUO",
          "MUATC",
          "MUDD",
          "EUDO",
          "SUAP",
          "SUG",
          "MUTO",
          "TUMVS",
          "PUTWZ",
          "EUNT",
          "PUSAC"
         ],
         "y": {
          "bdata": "6wSDA1YDTgJHApkBiQF4AfwA4wDMAMgAuACSAJAAjgBoAGcAXwBcAA==",
          "dtype": "i2"
         }
        }
       ],
       "layout": {
        "template": {
         "data": {
          "bar": [
           {
            "error_x": {
             "color": "#2a3f5f"
            },
            "error_y": {
             "color": "#2a3f5f"
            },
            "marker": {
             "line": {
              "color": "#E5ECF6",
              "width": 0.5
             },
             "pattern": {
              "fillmode": "overlay",
              "size": 10,
              "solidity": 0.2
             }
            },
            "type": "bar"
           }
          ],
          "barpolar": [
           {
            "marker": {
             "line": {
              "color": "#E5ECF6",
              "width": 0.5
             },
             "pattern": {
              "fillmode": "overlay",
              "size": 10,
              "solidity": 0.2
             }
            },
            "type": "barpolar"
           }
          ],
          "carpet": [
           {
            "aaxis": {
             "endlinecolor": "#2a3f5f",
             "gridcolor": "white",
             "linecolor": "white",
             "minorgridcolor": "white",
             "startlinecolor": "#2a3f5f"
            },
            "baxis": {
             "endlinecolor": "#2a3f5f",
             "gridcolor": "white",
             "linecolor": "white",
             "minorgridcolor": "white",
             "startlinecolor": "#2a3f5f"
            },
            "type": "carpet"
           }
          ],
          "choropleth": [
           {
            "colorbar": {
             "outlinewidth": 0,
             "ticks": ""
            },
            "type": "choropleth"
           }
          ],
          "contour": [
           {
            "colorbar": {
             "outlinewidth": 0,
             "ticks": ""
            },
            "colorscale": [
             [
              0,
              "#0d0887"
             ],
             [
              0.1111111111111111,
              "#46039f"
             ],
             [
              0.2222222222222222,
              "#7201a8"
             ],
             [
              0.3333333333333333,
              "#9c179e"
             ],
             [
              0.4444444444444444,
              "#bd3786"
             ],
             [
              0.5555555555555556,
              "#d8576b"
             ],
             [
              0.6666666666666666,
              "#ed7953"
             ],
             [
              0.7777777777777778,
              "#fb9f3a"
             ],
             [
              0.8888888888888888,
              "#fdca26"
             ],
             [
              1,
              "#f0f921"
             ]
            ],
            "type": "contour"
           }
          ],
          "contourcarpet": [
           {
            "colorbar": {
             "outlinewidth": 0,
             "ticks": ""
            },
            "type": "contourcarpet"
           }
          ],
          "heatmap": [
           {
            "colorbar": {
             "outlinewidth": 0,
             "ticks": ""
            },
            "colorscale": [
             [
              0,
              "#0d0887"
             ],
             [
              0.1111111111111111,
              "#46039f"
             ],
             [
              0.2222222222222222,
              "#7201a8"
             ],
             [
              0.3333333333333333,
              "#9c179e"
             ],
             [
              0.4444444444444444,
              "#bd3786"
             ],
             [
              0.5555555555555556,
              "#d8576b"
             ],
             [
              0.6666666666666666,
              "#ed7953"
             ],
             [
              0.7777777777777778,
              "#fb9f3a"
             ],
             [
              0.8888888888888888,
              "#fdca26"
             ],
             [
              1,
              "#f0f921"
             ]
            ],
            "type": "heatmap"
           }
          ],
          "histogram": [
           {
            "marker": {
             "pattern": {
              "fillmode": "overlay",
              "size": 10,
              "solidity": 0.2
             }
            },
            "type": "histogram"
           }
          ],
          "histogram2d": [
           {
            "colorbar": {
             "outlinewidth": 0,
             "ticks": ""
            },
            "colorscale": [
             [
              0,
              "#0d0887"
             ],
             [
              0.1111111111111111,
              "#46039f"
             ],
             [
              0.2222222222222222,
              "#7201a8"
             ],
             [
              0.3333333333333333,
              "#9c179e"
             ],
             [
              0.4444444444444444,
              "#bd3786"
             ],
             [
              0.5555555555555556,
              "#d8576b"
             ],
             [
              0.6666666666666666,
              "#ed7953"
             ],
             [
              0.7777777777777778,
              "#fb9f3a"
             ],
             [
              0.8888888888888888,
              "#fdca26"
             ],
             [
              1,
              "#f0f921"
             ]
            ],
            "type": "histogram2d"
           }
          ],
          "histogram2dcontour": [
           {
            "colorbar": {
             "outlinewidth": 0,
             "ticks": ""
            },
            "colorscale": [
             [
              0,
              "#0d0887"
             ],
             [
              0.1111111111111111,
              "#46039f"
             ],
             [
              0.2222222222222222,
              "#7201a8"
             ],
             [
              0.3333333333333333,
              "#9c179e"
             ],
             [
              0.4444444444444444,
              "#bd3786"
             ],
             [
              0.5555555555555556,
              "#d8576b"
             ],
             [
              0.6666666666666666,
              "#ed7953"
             ],
             [
              0.7777777777777778,
              "#fb9f3a"
             ],
             [
              0.8888888888888888,
              "#fdca26"
             ],
             [
              1,
              "#f0f921"
             ]
            ],
            "type": "histogram2dcontour"
           }
          ],
          "mesh3d": [
           {
            "colorbar": {
             "outlinewidth": 0,
             "ticks": ""
            },
            "type": "mesh3d"
           }
          ],
          "parcoords": [
           {
            "line": {
             "colorbar": {
              "outlinewidth": 0,
              "ticks": ""
             }
            },
            "type": "parcoords"
           }
          ],
          "pie": [
           {
            "automargin": true,
            "type": "pie"
           }
          ],
          "scatter": [
           {
            "fillpattern": {
             "fillmode": "overlay",
             "size": 10,
             "solidity": 0.2
            },
            "type": "scatter"
           }
          ],
          "scatter3d": [
           {
            "line": {
             "colorbar": {
              "outlinewidth": 0,
              "ticks": ""
             }
            },
            "marker": {
             "colorbar": {
              "outlinewidth": 0,
              "ticks": ""
             }
            },
            "type": "scatter3d"
           }
          ],
          "scattercarpet": [
           {
            "marker": {
             "colorbar": {
              "outlinewidth": 0,
              "ticks": ""
             }
            },
            "type": "scattercarpet"
           }
          ],
          "scattergeo": [
           {
            "marker": {
             "colorbar": {
              "outlinewidth": 0,
              "ticks": ""
             }
            },
            "type": "scattergeo"
           }
          ],
          "scattergl": [
           {
            "marker": {
             "colorbar": {
              "outlinewidth": 0,
              "ticks": ""
             }
            },
            "type": "scattergl"
           }
          ],
          "scattermap": [
           {
            "marker": {
             "colorbar": {
              "outlinewidth": 0,
              "ticks": ""
             }
            },
            "type": "scattermap"
           }
          ],
          "scattermapbox": [
           {
            "marker": {
             "colorbar": {
              "outlinewidth": 0,
              "ticks": ""
             }
            },
            "type": "scattermapbox"
           }
          ],
          "scatterpolar": [
           {
            "marker": {
             "colorbar": {
              "outlinewidth": 0,
              "ticks": ""
             }
            },
            "type": "scatterpolar"
           }
          ],
          "scatterpolargl": [
           {
            "marker": {
             "colorbar": {
              "outlinewidth": 0,
              "ticks": ""
             }
            },
            "type": "scatterpolargl"
           }
          ],
          "scatterternary": [
           {
            "marker": {
             "colorbar": {
              "outlinewidth": 0,
              "ticks": ""
             }
            },
            "type": "scatterternary"
           }
          ],
          "surface": [
           {
            "colorbar": {
             "outlinewidth": 0,
             "ticks": ""
            },
            "colorscale": [
             [
              0,
              "#0d0887"
             ],
             [
              0.1111111111111111,
              "#46039f"
             ],
             [
              0.2222222222222222,
              "#7201a8"
             ],
             [
              0.3333333333333333,
              "#9c179e"
             ],
             [
              0.4444444444444444,
              "#bd3786"
             ],
             [
              0.5555555555555556,
              "#d8576b"
             ],
             [
              0.6666666666666666,
              "#ed7953"
             ],
             [
              0.7777777777777778,
              "#fb9f3a"
             ],
             [
              0.8888888888888888,
              "#fdca26"
             ],
             [
              1,
              "#f0f921"
             ]
            ],
            "type": "surface"
           }
          ],
          "table": [
           {
            "cells": {
             "fill": {
              "color": "#EBF0F8"
             },
             "line": {
              "color": "white"
             }
            },
            "header": {
             "fill": {
              "color": "#C8D4E3"
             },
             "line": {
              "color": "white"
             }
            },
            "type": "table"
           }
          ]
         },
         "layout": {
          "annotationdefaults": {
           "arrowcolor": "#2a3f5f",
           "arrowhead": 0,
           "arrowwidth": 1
          },
          "autotypenumbers": "strict",
          "coloraxis": {
           "colorbar": {
            "outlinewidth": 0,
            "ticks": ""
           }
          },
          "colorscale": {
           "diverging": [
            [
             0,
             "#8e0152"
            ],
            [
             0.1,
             "#c51b7d"
            ],
            [
             0.2,
             "#de77ae"
            ],
            [
             0.3,
             "#f1b6da"
            ],
            [
             0.4,
             "#fde0ef"
            ],
            [
             0.5,
             "#f7f7f7"
            ],
            [
             0.6,
             "#e6f5d0"
            ],
            [
             0.7,
             "#b8e186"
            ],
            [
             0.8,
             "#7fbc41"
            ],
            [
             0.9,
             "#4d9221"
            ],
            [
             1,
             "#276419"
            ]
           ],
           "sequential": [
            [
             0,
             "#0d0887"
            ],
            [
             0.1111111111111111,
             "#46039f"
            ],
            [
             0.2222222222222222,
             "#7201a8"
            ],
            [
             0.3333333333333333,
             "#9c179e"
            ],
            [
             0.4444444444444444,
             "#bd3786"
            ],
            [
             0.5555555555555556,
             "#d8576b"
            ],
            [
             0.6666666666666666,
             "#ed7953"
            ],
            [
             0.7777777777777778,
             "#fb9f3a"
            ],
            [
             0.8888888888888888,
             "#fdca26"
            ],
            [
             1,
             "#f0f921"
            ]
           ],
           "sequentialminus": [
            [
             0,
             "#0d0887"
            ],
            [
             0.1111111111111111,
             "#46039f"
            ],
            [
             0.2222222222222222,
             "#7201a8"
            ],
            [
             0.3333333333333333,
             "#9c179e"
            ],
            [
             0.4444444444444444,
             "#bd3786"
            ],
            [
             0.5555555555555556,
             "#d8576b"
            ],
            [
             0.6666666666666666,
             "#ed7953"
            ],
            [
             0.7777777777777778,
             "#fb9f3a"
            ],
            [
             0.8888888888888888,
             "#fdca26"
            ],
            [
             1,
             "#f0f921"
            ]
           ]
          },
          "colorway": [
           "#636efa",
           "#EF553B",
           "#00cc96",
           "#ab63fa",
           "#FFA15A",
           "#19d3f3",
           "#FF6692",
           "#B6E880",
           "#FF97FF",
           "#FECB52"
          ],
          "font": {
           "color": "#2a3f5f"
          },
          "geo": {
           "bgcolor": "white",
           "lakecolor": "white",
           "landcolor": "#E5ECF6",
           "showlakes": true,
           "showland": true,
           "subunitcolor": "white"
          },
          "hoverlabel": {
           "align": "left"
          },
          "hovermode": "closest",
          "mapbox": {
           "style": "light"
          },
          "paper_bgcolor": "white",
          "plot_bgcolor": "#E5ECF6",
          "polar": {
           "angularaxis": {
            "gridcolor": "white",
            "linecolor": "white",
            "ticks": ""
           },
           "bgcolor": "#E5ECF6",
           "radialaxis": {
            "gridcolor": "white",
            "linecolor": "white",
            "ticks": ""
           }
          },
          "scene": {
           "xaxis": {
            "backgroundcolor": "#E5ECF6",
            "gridcolor": "white",
            "gridwidth": 2,
            "linecolor": "white",
            "showbackground": true,
            "ticks": "",
            "zerolinecolor": "white"
           },
           "yaxis": {
            "backgroundcolor": "#E5ECF6",
            "gridcolor": "white",
            "gridwidth": 2,
            "linecolor": "white",
            "showbackground": true,
            "ticks": "",
            "zerolinecolor": "white"
           },
           "zaxis": {
            "backgroundcolor": "#E5ECF6",
            "gridcolor": "white",
            "gridwidth": 2,
            "linecolor": "white",
            "showbackground": true,
            "ticks": "",
            "zerolinecolor": "white"
           }
          },
          "shapedefaults": {
           "line": {
            "color": "#2a3f5f"
           }
          },
          "ternary": {
           "aaxis": {
            "gridcolor": "white",
            "linecolor": "white",
            "ticks": ""
           },
           "baxis": {
            "gridcolor": "white",
            "linecolor": "white",
            "ticks": ""
           },
           "bgcolor": "#E5ECF6",
           "caxis": {
            "gridcolor": "white",
            "linecolor": "white",
            "ticks": ""
           }
          },
          "title": {
           "x": 0.05
          },
          "xaxis": {
           "automargin": true,
           "gridcolor": "white",
           "linecolor": "white",
           "ticks": "",
           "title": {
            "standoff": 15
           },
           "zerolinecolor": "white",
           "zerolinewidth": 2
          },
          "yaxis": {
           "automargin": true,
           "gridcolor": "white",
           "linecolor": "white",
           "ticks": "",
           "title": {
            "standoff": 15
           },
           "zerolinecolor": "white",
           "zerolinewidth": 2
          }
         }
        },
        "title": {
         "text": "Top 20 causes of TTC delays in 2024"
        },
        "xaxis": {
         "tickangle": 65,
         "title": {
          "text": "Cause of delay"
         }
        },
        "yaxis": {
         "title": {
          "text": "Frequency"
         }
        }
       }
      }
     },
     "metadata": {},
     "output_type": "display_data"
    }
   ],
   "source": [
    "#define a subset that consists of passenger-related causes\n",
    "\n",
    "passenger_causes = {'SUDP', 'MUPAA', 'SUO', 'MUIR', 'MUSAN','SUUT', 'MUI', 'SUAP', 'SUG'}\n",
    "\n",
    "# redefining colors for subset\n",
    "\n",
    "colors = ['indianred' if code in passenger_causes else 'steelblue'\n",
    "          for code in top20_causes['code']]\n",
    "\n",
    "#recreating plot integrating this subset\n",
    "\n",
    "graph = go.Figure()\n",
    "graph.add_trace(go.Bar(x=top20_causes['code'], \n",
    "                       y=top20_causes['count'], \n",
    "                       text=hover_text, \n",
    "                       textposition='none',\n",
    "                                              marker_color=colors                       ))\n",
    "\n",
    "graph.update_layout(\n",
    "    title = 'Top 20 causes of TTC delays in 2024',\n",
    "    xaxis_title = 'Cause of delay',\n",
    "    yaxis_title = 'Frequency',\n",
    "    xaxis_tickangle=65\n",
    ")\n"
   ]
  },
  {
   "cell_type": "markdown",
   "metadata": {},
   "source": [
    "Attempting a different version of this graph, in order to further differentiate the bars according to the subway line."
   ]
  },
  {
   "cell_type": "code",
   "execution_count": 45,
   "metadata": {},
   "outputs": [
    {
     "data": {
      "application/vnd.plotly.v1+json": {
       "config": {
        "plotlyServerURL": "https://plot.ly"
       },
       "data": [
        {
         "hoverinfo": "text",
         "hovertext": [
          "Cause: Disorderly Patron<br>Line: Yonge-University<br>Count: 775.0",
          "Cause: Passenger Assistance Alarm Activated - No Trouble Found<br>Line: Yonge-University<br>Count: 717.0",
          "Cause: OPTO (COMMS) Train Door Monitoring<br>Line: Yonge-University<br>Count: 812.0",
          "Cause: Passenger Other<br>Line: Yonge-University<br>Count: 334.0",
          "Cause: Injured or ill Customer (On Train) - Medical Aid Refused<br>Line: Yonge-University<br>Count: 361.0",
          "Cause: Unsanitary Vehicle<br>Line: Yonge-University<br>Count: 241.0",
          "Cause: Unauthorized at Track Level<br>Line: Yonge-University<br>Count: 235.0",
          "Cause: Injured or ill Customer (On Train) - Transported<br>Line: Yonge-University<br>Count: 221.0",
          "Cause: Transportation Department - Other<br>Line: Yonge-University<br>Count: 139.0",
          "Cause: Miscellaneous Other<br>Line: Yonge-University<br>Count: 150.0",
          "Cause: Automatic Train Control (ATC)  Project<br>Line: Yonge-University<br>Count: 204.0",
          "Cause: Door Problems - Debris Related<br>Line: Yonge-University<br>Count: 63.0",
          "Cause: Door Problems - Faulty Equipment<br>Line: Yonge-University<br>Count: 104.0",
          "Cause: Assault / Patron Involved<br>Line: Yonge-University<br>Count: 81.0",
          "Cause: Graffiti / Scratchiti<br>Line: Yonge-University<br>Count: 38.0",
          "Cause: Misc. Transportation Other - Employee Non-Chargeable<br>Line: Yonge-University<br>Count: 58.0",
          "Cause: Operator Violated Signal<br>Line: Yonge-University<br>Count: 0.0",
          "Cause: Work Zone Problems - Track<br>Line: Yonge-University<br>Count: 63.0",
          "Cause: Equipment - No Trouble Found<br>Line: Yonge-University<br>Count: 24.0",
          "Cause: Signals Axle Counter Block Failure<br>Line: Yonge-University<br>Count: 92.0"
         ],
         "marker": {
          "color": "#EECA3B"
         },
         "name": "Yonge-University",
         "type": "bar",
         "x": [
          "SUDP",
          "MUPAA",
          "PUOPO",
          "SUO",
          "MUIR",
          "MUSAN",
          "SUUT",
          "MUI",
          "TUO",
          "MUO",
          "MUATC",
          "MUDD",
          "EUDO",
          "SUAP",
          "SUG",
          "MUTO",
          "TUMVS",
          "PUTWZ",
          "EUNT",
          "PUSAC"
         ],
         "y": {
          "bdata": "AAAAAAA4iEAAAAAAAGiGQAAAAAAAYIlAAAAAAADgdEAAAAAAAJB2QAAAAAAAIG5AAAAAAABgbUAAAAAAAKBrQAAAAAAAYGFAAAAAAADAYkAAAAAAAIBpQAAAAAAAgE9AAAAAAAAAWkAAAAAAAEBUQAAAAAAAAENAAAAAAAAATUAAAAAAAAAAAAAAAAAAgE9AAAAAAAAAOEAAAAAAAABXQA==",
          "dtype": "f8"
         }
        },
        {
         "hoverinfo": "text",
         "hovertext": [
          "Cause: Disorderly Patron<br>Line: Bloor-Danforth<br>Count: 458.0",
          "Cause: Passenger Assistance Alarm Activated - No Trouble Found<br>Line: Bloor-Danforth<br>Count: 171.0",
          "Cause: OPTO (COMMS) Train Door Monitoring<br>Line: Bloor-Danforth<br>Count: 0.0",
          "Cause: Passenger Other<br>Line: Bloor-Danforth<br>Count: 240.0",
          "Cause: Injured or ill Customer (On Train) - Medical Aid Refused<br>Line: Bloor-Danforth<br>Count: 213.0",
          "Cause: Unsanitary Vehicle<br>Line: Bloor-Danforth<br>Count: 159.0",
          "Cause: Unauthorized at Track Level<br>Line: Bloor-Danforth<br>Count: 147.0",
          "Cause: Injured or ill Customer (On Train) - Transported<br>Line: Bloor-Danforth<br>Count: 142.0",
          "Cause: Transportation Department - Other<br>Line: Bloor-Danforth<br>Count: 97.0",
          "Cause: Miscellaneous Other<br>Line: Bloor-Danforth<br>Count: 68.0",
          "Cause: Automatic Train Control (ATC)  Project<br>Line: Bloor-Danforth<br>Count: 0.0",
          "Cause: Door Problems - Debris Related<br>Line: Bloor-Danforth<br>Count: 137.0",
          "Cause: Door Problems - Faulty Equipment<br>Line: Bloor-Danforth<br>Count: 78.0",
          "Cause: Assault / Patron Involved<br>Line: Bloor-Danforth<br>Count: 56.0",
          "Cause: Graffiti / Scratchiti<br>Line: Bloor-Danforth<br>Count: 106.0",
          "Cause: Misc. Transportation Other - Employee Non-Chargeable<br>Line: Bloor-Danforth<br>Count: 84.0",
          "Cause: Operator Violated Signal<br>Line: Bloor-Danforth<br>Count: 96.0",
          "Cause: Work Zone Problems - Track<br>Line: Bloor-Danforth<br>Count: 36.0",
          "Cause: Equipment - No Trouble Found<br>Line: Bloor-Danforth<br>Count: 70.0",
          "Cause: Signals Axle Counter Block Failure<br>Line: Bloor-Danforth<br>Count: 0.0"
         ],
         "marker": {
          "color": "seagreen"
         },
         "name": "Bloor-Danforth",
         "type": "bar",
         "x": [
          "SUDP",
          "MUPAA",
          "PUOPO",
          "SUO",
          "MUIR",
          "MUSAN",
          "SUUT",
          "MUI",
          "TUO",
          "MUO",
          "MUATC",
          "MUDD",
          "EUDO",
          "SUAP",
          "SUG",
          "MUTO",
          "TUMVS",
          "PUTWZ",
          "EUNT",
          "PUSAC"
         ],
         "y": {
          "bdata": "AAAAAACgfEAAAAAAAGBlQAAAAAAAAAAAAAAAAAAAbkAAAAAAAKBqQAAAAAAA4GNAAAAAAABgYkAAAAAAAMBhQAAAAAAAQFhAAAAAAAAAUUAAAAAAAAAAAAAAAAAAIGFAAAAAAACAU0AAAAAAAABMQAAAAAAAgFpAAAAAAAAAVUAAAAAAAABYQAAAAAAAAEJAAAAAAACAUUAAAAAAAAAAAA==",
          "dtype": "f8"
         }
        },
        {
         "hoverinfo": "text",
         "hovertext": [
          "Cause: Disorderly Patron<br>Line: Sheppard-Yonge<br>Count: 26.0",
          "Cause: Passenger Assistance Alarm Activated - No Trouble Found<br>Line: Sheppard-Yonge<br>Count: 11.0",
          "Cause: OPTO (COMMS) Train Door Monitoring<br>Line: Sheppard-Yonge<br>Count: 42.0",
          "Cause: Passenger Other<br>Line: Sheppard-Yonge<br>Count: 16.0",
          "Cause: Injured or ill Customer (On Train) - Medical Aid Refused<br>Line: Sheppard-Yonge<br>Count: 9.0",
          "Cause: Unsanitary Vehicle<br>Line: Sheppard-Yonge<br>Count: 9.0",
          "Cause: Unauthorized at Track Level<br>Line: Sheppard-Yonge<br>Count: 11.0",
          "Cause: Injured or ill Customer (On Train) - Transported<br>Line: Sheppard-Yonge<br>Count: 13.0",
          "Cause: Transportation Department - Other<br>Line: Sheppard-Yonge<br>Count: 16.0",
          "Cause: Miscellaneous Other<br>Line: Sheppard-Yonge<br>Count: 9.0",
          "Cause: Automatic Train Control (ATC)  Project<br>Line: Sheppard-Yonge<br>Count: 0.0",
          "Cause: Door Problems - Debris Related<br>Line: Sheppard-Yonge<br>Count: 0.0",
          "Cause: Door Problems - Faulty Equipment<br>Line: Sheppard-Yonge<br>Count: 2.0",
          "Cause: Assault / Patron Involved<br>Line: Sheppard-Yonge<br>Count: 9.0",
          "Cause: Graffiti / Scratchiti<br>Line: Sheppard-Yonge<br>Count: 0.0",
          "Cause: Misc. Transportation Other - Employee Non-Chargeable<br>Line: Sheppard-Yonge<br>Count: 0.0",
          "Cause: Operator Violated Signal<br>Line: Sheppard-Yonge<br>Count: 8.0",
          "Cause: Work Zone Problems - Track<br>Line: Sheppard-Yonge<br>Count: 4.0",
          "Cause: Equipment - No Trouble Found<br>Line: Sheppard-Yonge<br>Count: 1.0",
          "Cause: Signals Axle Counter Block Failure<br>Line: Sheppard-Yonge<br>Count: 0.0"
         ],
         "marker": {
          "color": "indianred"
         },
         "name": "Sheppard-Yonge",
         "type": "bar",
         "x": [
          "SUDP",
          "MUPAA",
          "PUOPO",
          "SUO",
          "MUIR",
          "MUSAN",
          "SUUT",
          "MUI",
          "TUO",
          "MUO",
          "MUATC",
          "MUDD",
          "EUDO",
          "SUAP",
          "SUG",
          "MUTO",
          "TUMVS",
          "PUTWZ",
          "EUNT",
          "PUSAC"
         ],
         "y": {
          "bdata": "AAAAAAAAOkAAAAAAAAAmQAAAAAAAAEVAAAAAAAAAMEAAAAAAAAAiQAAAAAAAACJAAAAAAAAAJkAAAAAAAAAqQAAAAAAAADBAAAAAAAAAIkAAAAAAAAAAAAAAAAAAAAAAAAAAAAAAAEAAAAAAAAAiQAAAAAAAAAAAAAAAAAAAAAAAAAAAAAAgQAAAAAAAABBAAAAAAAAA8D8AAAAAAAAAAA==",
          "dtype": "f8"
         }
        },
        {
         "hoverinfo": "skip",
         "mode": "text",
         "showlegend": false,
         "text": {
          "bdata": "AAAAAACsk0AAAAAAABiMQAAAAAAAsIpAAAAAAABwgkAAAAAAADiCQAAAAAAAkHlAAAAAAACQeEAAAAAAAIB3QAAAAAAAgG9AAAAAAABgbEAAAAAAAIBpQAAAAAAAAGlAAAAAAAAAZ0AAAAAAAEBiQAAAAAAAAGJAAAAAAADAYUAAAAAAAABaQAAAAAAAwFlAAAAAAADAV0AAAAAAAABXQA==",
          "dtype": "f8"
         },
         "textfont": {
          "size": 10
         },
         "textposition": "top center",
         "type": "scatter",
         "x": [
          "SUDP",
          "MUPAA",
          "PUOPO",
          "SUO",
          "MUIR",
          "MUSAN",
          "SUUT",
          "MUI",
          "TUO",
          "MUO",
          "MUATC",
          "MUDD",
          "EUDO",
          "SUAP",
          "SUG",
          "MUTO",
          "TUMVS",
          "PUTWZ",
          "EUNT",
          "PUSAC"
         ],
         "y": {
          "bdata": "AAAAAACsk0AAAAAAABiMQAAAAAAAsIpAAAAAAABwgkAAAAAAADiCQAAAAAAAkHlAAAAAAACQeEAAAAAAAIB3QAAAAAAAgG9AAAAAAABgbEAAAAAAAIBpQAAAAAAAAGlAAAAAAAAAZ0AAAAAAAEBiQAAAAAAAAGJAAAAAAADAYUAAAAAAAABaQAAAAAAAwFlAAAAAAADAV0AAAAAAAABXQA==",
          "dtype": "f8"
         }
        }
       ],
       "layout": {
        "barmode": "stack",
        "height": 600,
        "margin": {
         "b": 120,
         "t": 80
        },
        "template": {
         "data": {
          "bar": [
           {
            "error_x": {
             "color": "#2a3f5f"
            },
            "error_y": {
             "color": "#2a3f5f"
            },
            "marker": {
             "line": {
              "color": "#E5ECF6",
              "width": 0.5
             },
             "pattern": {
              "fillmode": "overlay",
              "size": 10,
              "solidity": 0.2
             }
            },
            "type": "bar"
           }
          ],
          "barpolar": [
           {
            "marker": {
             "line": {
              "color": "#E5ECF6",
              "width": 0.5
             },
             "pattern": {
              "fillmode": "overlay",
              "size": 10,
              "solidity": 0.2
             }
            },
            "type": "barpolar"
           }
          ],
          "carpet": [
           {
            "aaxis": {
             "endlinecolor": "#2a3f5f",
             "gridcolor": "white",
             "linecolor": "white",
             "minorgridcolor": "white",
             "startlinecolor": "#2a3f5f"
            },
            "baxis": {
             "endlinecolor": "#2a3f5f",
             "gridcolor": "white",
             "linecolor": "white",
             "minorgridcolor": "white",
             "startlinecolor": "#2a3f5f"
            },
            "type": "carpet"
           }
          ],
          "choropleth": [
           {
            "colorbar": {
             "outlinewidth": 0,
             "ticks": ""
            },
            "type": "choropleth"
           }
          ],
          "contour": [
           {
            "colorbar": {
             "outlinewidth": 0,
             "ticks": ""
            },
            "colorscale": [
             [
              0,
              "#0d0887"
             ],
             [
              0.1111111111111111,
              "#46039f"
             ],
             [
              0.2222222222222222,
              "#7201a8"
             ],
             [
              0.3333333333333333,
              "#9c179e"
             ],
             [
              0.4444444444444444,
              "#bd3786"
             ],
             [
              0.5555555555555556,
              "#d8576b"
             ],
             [
              0.6666666666666666,
              "#ed7953"
             ],
             [
              0.7777777777777778,
              "#fb9f3a"
             ],
             [
              0.8888888888888888,
              "#fdca26"
             ],
             [
              1,
              "#f0f921"
             ]
            ],
            "type": "contour"
           }
          ],
          "contourcarpet": [
           {
            "colorbar": {
             "outlinewidth": 0,
             "ticks": ""
            },
            "type": "contourcarpet"
           }
          ],
          "heatmap": [
           {
            "colorbar": {
             "outlinewidth": 0,
             "ticks": ""
            },
            "colorscale": [
             [
              0,
              "#0d0887"
             ],
             [
              0.1111111111111111,
              "#46039f"
             ],
             [
              0.2222222222222222,
              "#7201a8"
             ],
             [
              0.3333333333333333,
              "#9c179e"
             ],
             [
              0.4444444444444444,
              "#bd3786"
             ],
             [
              0.5555555555555556,
              "#d8576b"
             ],
             [
              0.6666666666666666,
              "#ed7953"
             ],
             [
              0.7777777777777778,
              "#fb9f3a"
             ],
             [
              0.8888888888888888,
              "#fdca26"
             ],
             [
              1,
              "#f0f921"
             ]
            ],
            "type": "heatmap"
           }
          ],
          "histogram": [
           {
            "marker": {
             "pattern": {
              "fillmode": "overlay",
              "size": 10,
              "solidity": 0.2
             }
            },
            "type": "histogram"
           }
          ],
          "histogram2d": [
           {
            "colorbar": {
             "outlinewidth": 0,
             "ticks": ""
            },
            "colorscale": [
             [
              0,
              "#0d0887"
             ],
             [
              0.1111111111111111,
              "#46039f"
             ],
             [
              0.2222222222222222,
              "#7201a8"
             ],
             [
              0.3333333333333333,
              "#9c179e"
             ],
             [
              0.4444444444444444,
              "#bd3786"
             ],
             [
              0.5555555555555556,
              "#d8576b"
             ],
             [
              0.6666666666666666,
              "#ed7953"
             ],
             [
              0.7777777777777778,
              "#fb9f3a"
             ],
             [
              0.8888888888888888,
              "#fdca26"
             ],
             [
              1,
              "#f0f921"
             ]
            ],
            "type": "histogram2d"
           }
          ],
          "histogram2dcontour": [
           {
            "colorbar": {
             "outlinewidth": 0,
             "ticks": ""
            },
            "colorscale": [
             [
              0,
              "#0d0887"
             ],
             [
              0.1111111111111111,
              "#46039f"
             ],
             [
              0.2222222222222222,
              "#7201a8"
             ],
             [
              0.3333333333333333,
              "#9c179e"
             ],
             [
              0.4444444444444444,
              "#bd3786"
             ],
             [
              0.5555555555555556,
              "#d8576b"
             ],
             [
              0.6666666666666666,
              "#ed7953"
             ],
             [
              0.7777777777777778,
              "#fb9f3a"
             ],
             [
              0.8888888888888888,
              "#fdca26"
             ],
             [
              1,
              "#f0f921"
             ]
            ],
            "type": "histogram2dcontour"
           }
          ],
          "mesh3d": [
           {
            "colorbar": {
             "outlinewidth": 0,
             "ticks": ""
            },
            "type": "mesh3d"
           }
          ],
          "parcoords": [
           {
            "line": {
             "colorbar": {
              "outlinewidth": 0,
              "ticks": ""
             }
            },
            "type": "parcoords"
           }
          ],
          "pie": [
           {
            "automargin": true,
            "type": "pie"
           }
          ],
          "scatter": [
           {
            "fillpattern": {
             "fillmode": "overlay",
             "size": 10,
             "solidity": 0.2
            },
            "type": "scatter"
           }
          ],
          "scatter3d": [
           {
            "line": {
             "colorbar": {
              "outlinewidth": 0,
              "ticks": ""
             }
            },
            "marker": {
             "colorbar": {
              "outlinewidth": 0,
              "ticks": ""
             }
            },
            "type": "scatter3d"
           }
          ],
          "scattercarpet": [
           {
            "marker": {
             "colorbar": {
              "outlinewidth": 0,
              "ticks": ""
             }
            },
            "type": "scattercarpet"
           }
          ],
          "scattergeo": [
           {
            "marker": {
             "colorbar": {
              "outlinewidth": 0,
              "ticks": ""
             }
            },
            "type": "scattergeo"
           }
          ],
          "scattergl": [
           {
            "marker": {
             "colorbar": {
              "outlinewidth": 0,
              "ticks": ""
             }
            },
            "type": "scattergl"
           }
          ],
          "scattermap": [
           {
            "marker": {
             "colorbar": {
              "outlinewidth": 0,
              "ticks": ""
             }
            },
            "type": "scattermap"
           }
          ],
          "scattermapbox": [
           {
            "marker": {
             "colorbar": {
              "outlinewidth": 0,
              "ticks": ""
             }
            },
            "type": "scattermapbox"
           }
          ],
          "scatterpolar": [
           {
            "marker": {
             "colorbar": {
              "outlinewidth": 0,
              "ticks": ""
             }
            },
            "type": "scatterpolar"
           }
          ],
          "scatterpolargl": [
           {
            "marker": {
             "colorbar": {
              "outlinewidth": 0,
              "ticks": ""
             }
            },
            "type": "scatterpolargl"
           }
          ],
          "scatterternary": [
           {
            "marker": {
             "colorbar": {
              "outlinewidth": 0,
              "ticks": ""
             }
            },
            "type": "scatterternary"
           }
          ],
          "surface": [
           {
            "colorbar": {
             "outlinewidth": 0,
             "ticks": ""
            },
            "colorscale": [
             [
              0,
              "#0d0887"
             ],
             [
              0.1111111111111111,
              "#46039f"
             ],
             [
              0.2222222222222222,
              "#7201a8"
             ],
             [
              0.3333333333333333,
              "#9c179e"
             ],
             [
              0.4444444444444444,
              "#bd3786"
             ],
             [
              0.5555555555555556,
              "#d8576b"
             ],
             [
              0.6666666666666666,
              "#ed7953"
             ],
             [
              0.7777777777777778,
              "#fb9f3a"
             ],
             [
              0.8888888888888888,
              "#fdca26"
             ],
             [
              1,
              "#f0f921"
             ]
            ],
            "type": "surface"
           }
          ],
          "table": [
           {
            "cells": {
             "fill": {
              "color": "#EBF0F8"
             },
             "line": {
              "color": "white"
             }
            },
            "header": {
             "fill": {
              "color": "#C8D4E3"
             },
             "line": {
              "color": "white"
             }
            },
            "type": "table"
           }
          ]
         },
         "layout": {
          "annotationdefaults": {
           "arrowcolor": "#2a3f5f",
           "arrowhead": 0,
           "arrowwidth": 1
          },
          "autotypenumbers": "strict",
          "coloraxis": {
           "colorbar": {
            "outlinewidth": 0,
            "ticks": ""
           }
          },
          "colorscale": {
           "diverging": [
            [
             0,
             "#8e0152"
            ],
            [
             0.1,
             "#c51b7d"
            ],
            [
             0.2,
             "#de77ae"
            ],
            [
             0.3,
             "#f1b6da"
            ],
            [
             0.4,
             "#fde0ef"
            ],
            [
             0.5,
             "#f7f7f7"
            ],
            [
             0.6,
             "#e6f5d0"
            ],
            [
             0.7,
             "#b8e186"
            ],
            [
             0.8,
             "#7fbc41"
            ],
            [
             0.9,
             "#4d9221"
            ],
            [
             1,
             "#276419"
            ]
           ],
           "sequential": [
            [
             0,
             "#0d0887"
            ],
            [
             0.1111111111111111,
             "#46039f"
            ],
            [
             0.2222222222222222,
             "#7201a8"
            ],
            [
             0.3333333333333333,
             "#9c179e"
            ],
            [
             0.4444444444444444,
             "#bd3786"
            ],
            [
             0.5555555555555556,
             "#d8576b"
            ],
            [
             0.6666666666666666,
             "#ed7953"
            ],
            [
             0.7777777777777778,
             "#fb9f3a"
            ],
            [
             0.8888888888888888,
             "#fdca26"
            ],
            [
             1,
             "#f0f921"
            ]
           ],
           "sequentialminus": [
            [
             0,
             "#0d0887"
            ],
            [
             0.1111111111111111,
             "#46039f"
            ],
            [
             0.2222222222222222,
             "#7201a8"
            ],
            [
             0.3333333333333333,
             "#9c179e"
            ],
            [
             0.4444444444444444,
             "#bd3786"
            ],
            [
             0.5555555555555556,
             "#d8576b"
            ],
            [
             0.6666666666666666,
             "#ed7953"
            ],
            [
             0.7777777777777778,
             "#fb9f3a"
            ],
            [
             0.8888888888888888,
             "#fdca26"
            ],
            [
             1,
             "#f0f921"
            ]
           ]
          },
          "colorway": [
           "#636efa",
           "#EF553B",
           "#00cc96",
           "#ab63fa",
           "#FFA15A",
           "#19d3f3",
           "#FF6692",
           "#B6E880",
           "#FF97FF",
           "#FECB52"
          ],
          "font": {
           "color": "#2a3f5f"
          },
          "geo": {
           "bgcolor": "white",
           "lakecolor": "white",
           "landcolor": "#E5ECF6",
           "showlakes": true,
           "showland": true,
           "subunitcolor": "white"
          },
          "hoverlabel": {
           "align": "left"
          },
          "hovermode": "closest",
          "mapbox": {
           "style": "light"
          },
          "paper_bgcolor": "white",
          "plot_bgcolor": "#E5ECF6",
          "polar": {
           "angularaxis": {
            "gridcolor": "white",
            "linecolor": "white",
            "ticks": ""
           },
           "bgcolor": "#E5ECF6",
           "radialaxis": {
            "gridcolor": "white",
            "linecolor": "white",
            "ticks": ""
           }
          },
          "scene": {
           "xaxis": {
            "backgroundcolor": "#E5ECF6",
            "gridcolor": "white",
            "gridwidth": 2,
            "linecolor": "white",
            "showbackground": true,
            "ticks": "",
            "zerolinecolor": "white"
           },
           "yaxis": {
            "backgroundcolor": "#E5ECF6",
            "gridcolor": "white",
            "gridwidth": 2,
            "linecolor": "white",
            "showbackground": true,
            "ticks": "",
            "zerolinecolor": "white"
           },
           "zaxis": {
            "backgroundcolor": "#E5ECF6",
            "gridcolor": "white",
            "gridwidth": 2,
            "linecolor": "white",
            "showbackground": true,
            "ticks": "",
            "zerolinecolor": "white"
           }
          },
          "shapedefaults": {
           "line": {
            "color": "#2a3f5f"
           }
          },
          "ternary": {
           "aaxis": {
            "gridcolor": "white",
            "linecolor": "white",
            "ticks": ""
           },
           "baxis": {
            "gridcolor": "white",
            "linecolor": "white",
            "ticks": ""
           },
           "bgcolor": "#E5ECF6",
           "caxis": {
            "gridcolor": "white",
            "linecolor": "white",
            "ticks": ""
           }
          },
          "title": {
           "x": 0.05
          },
          "xaxis": {
           "automargin": true,
           "gridcolor": "white",
           "linecolor": "white",
           "ticks": "",
           "title": {
            "standoff": 15
           },
           "zerolinecolor": "white",
           "zerolinewidth": 2
          },
          "yaxis": {
           "automargin": true,
           "gridcolor": "white",
           "linecolor": "white",
           "ticks": "",
           "title": {
            "standoff": 15
           },
           "zerolinecolor": "white",
           "zerolinewidth": 2
          }
         }
        },
        "title": {
         "text": "Top 20 TTC Delay Causes in 2024"
        },
        "xaxis": {
         "tickangle": 65,
         "title": {
          "text": "Cause Code"
         }
        },
        "yaxis": {
         "title": {
          "text": "Frequency"
         }
        }
       }
      }
     },
     "metadata": {},
     "output_type": "display_data"
    }
   ],
   "source": [
    "df = pd.read_excel(\"/Users/gregantono/Desktop/TTC-2024delays.xlsx\", engine='openpyxl')\n",
    "\n",
    "df.columns = df.columns.str.strip().str.lower()\n",
    "df = df[df['cause'].str.lower() != 'other']  #excluding those labelled 'other'\n",
    "\n",
    "grouped = df.groupby(['code', 'cause', 'line']).size().reset_index(name='count')\n",
    "\n",
    "pivot = grouped.pivot_table(index=['code', 'cause'], columns='line', values='count', fill_value=0)\n",
    "pivot = pivot.reset_index()\n",
    "\n",
    "pivot['total'] = pivot.iloc[:, 2:].sum(axis=1)   #sorting by total count\n",
    "top_20 = pivot.sort_values(by='total', ascending=False).head(20).copy() #extract top 20 \n",
    "\n",
    "\n",
    "fig = go.Figure()      \n",
    "\n",
    "line_colors = {                     \n",
    "    'YU': '#EECA3B',                    # customize Line color and full name mapping\n",
    "    'BD': 'seagreen',\n",
    "    'SHP': 'indianred'\n",
    "}\n",
    "\n",
    "line_name_map = {                       #to display full line name instead of the TTC subway code\n",
    "    'YU': 'Yonge-University',\n",
    "    'BD': 'Bloor-Danforth',\n",
    "    'SHP': 'Sheppard-Yonge'\n",
    "}\n",
    "\n",
    "line_totals = top_20.iloc[:, 2:-1].sum().sort_values(ascending=False)\n",
    "stack_order = line_totals.index.tolist()                                # Order TTC lines in order of contribution\n",
    "\n",
    "for line_code in stack_order:\n",
    "    full_name = line_name_map.get(line_code, line_code)\n",
    "    fig.add_trace(\n",
    "        go.Bar(\n",
    "            x=top_20['code'],\n",
    "            y=top_20[line_code],\n",
    "            name=full_name,  # Show full name in legend\n",
    "            marker_color=line_colors.get(line_code, 'gray'),\n",
    "            hovertext=[\n",
    "                f\"Cause: {cause}<br>Line: {full_name}<br>Count: {count}\"\n",
    "                for cause, count in zip(top_20['cause'], top_20[line_code])\n",
    "            ],\n",
    "            hoverinfo='text'\n",
    "        )\n",
    "    )\n",
    "\n",
    "\n",
    "fig.add_trace(                          #To display the total counts for each cause of delay above each bar\n",
    "    go.Scatter(\n",
    "        x=top_20['code'],\n",
    "        y=top_20['total'],\n",
    "        mode='text',\n",
    "        text=top_20['total'],\n",
    "        textposition='top center',\n",
    "        textfont=dict(size=10),\n",
    "        showlegend=False,\n",
    "        hoverinfo='skip'\n",
    "    )\n",
    ")\n",
    "\n",
    "fig.update_layout(\n",
    "    title=\"Top 20 TTC Delay Causes in 2024\",\n",
    "    xaxis_title=\"Cause Code\",\n",
    "    yaxis_title=\"Frequency\",\n",
    "    xaxis_tickangle=65,\n",
    "    barmode='stack',\n",
    "    height=600,\n",
    "    margin=dict(t=80, b=120)\n",
    ")\n",
    "\n",
    "\n",
    "fig.show()\n"
   ]
  }
 ],
 "metadata": {
  "kernelspec": {
   "display_name": "dsi_participant",
   "language": "python",
   "name": "python3"
  },
  "language_info": {
   "codemirror_mode": {
    "name": "ipython",
    "version": 3
   },
   "file_extension": ".py",
   "mimetype": "text/x-python",
   "name": "python",
   "nbconvert_exporter": "python",
   "pygments_lexer": "ipython3",
   "version": "3.9.21"
  }
 },
 "nbformat": 4,
 "nbformat_minor": 2
}
